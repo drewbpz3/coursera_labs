{
 "cells": [
  {
   "cell_type": "markdown",
   "id": "3eaf9148",
   "metadata": {},
   "source": [
    "# Data Science Tools and Ecosystem"
   ]
  },
  {
   "cell_type": "markdown",
   "id": "fa4d3e76",
   "metadata": {},
   "source": [
    "In this notebook, Data Science Tools and Ecostsem are summarized."
   ]
  },
  {
   "cell_type": "markdown",
   "id": "b6e2ef72",
   "metadata": {},
   "source": [
    "**Objectives:**\n",
    "- List Data Science languages\n",
    "- List Data Science libraries\n",
    "- List Data Science tools\n",
    "- Create code examples of arithmetic"
   ]
  },
  {
   "cell_type": "markdown",
   "id": "9f0d5256",
   "metadata": {},
   "source": [
    "Some of the popular languages that Data Scienteists use are:\n",
    "1. Python\n",
    "2. R\n",
    "3. SQL\n",
    "4. Java"
   ]
  },
  {
   "cell_type": "markdown",
   "id": "a7a824a9",
   "metadata": {},
   "source": [
    "Some of the commonly used libraries by Data Scientists include:\n",
    "1. matplotlib\n",
    "2. pandas\n",
    "3. sciPy\n",
    "4. NumPy"
   ]
  },
  {
   "cell_type": "markdown",
   "id": "a1894743",
   "metadata": {},
   "source": [
    "|Data Science Tools|\n",
    "|------------------|\n",
    "|Jupiter Notebooks|\n",
    "|Anaconda|\n",
    "|Tableau|"
   ]
  },
  {
   "cell_type": "markdown",
   "id": "8b6aeed8",
   "metadata": {},
   "source": [
    "### Below are a few examples of Evaluating arithmetic expressions in Python"
   ]
  },
  {
   "cell_type": "code",
   "execution_count": 6,
   "id": "6056ba20",
   "metadata": {},
   "outputs": [
    {
     "data": {
      "text/plain": [
       "17"
      ]
     },
     "execution_count": 6,
     "metadata": {},
     "output_type": "execute_result"
    }
   ],
   "source": [
    "# This is an expression to multiply then add integers\n",
    "(3*4)+5"
   ]
  },
  {
   "cell_type": "code",
   "execution_count": 7,
   "id": "15ddc41b",
   "metadata": {},
   "outputs": [
    {
     "data": {
      "text/plain": [
       "3.3333333333333335"
      ]
     },
     "execution_count": 7,
     "metadata": {},
     "output_type": "execute_result"
    }
   ],
   "source": [
    "# This will convert 200 minutes to hours by dividing by 60\n",
    "200/60"
   ]
  },
  {
   "cell_type": "markdown",
   "id": "5d5e68cd",
   "metadata": {},
   "source": [
    "## Author\n",
    "Andrew Toutant"
   ]
  }
 ],
 "metadata": {
  "kernelspec": {
   "display_name": "Python 3 (ipykernel)",
   "language": "python",
   "name": "python3"
  },
  "language_info": {
   "codemirror_mode": {
    "name": "ipython",
    "version": 3
   },
   "file_extension": ".py",
   "mimetype": "text/x-python",
   "name": "python",
   "nbconvert_exporter": "python",
   "pygments_lexer": "ipython3",
   "version": "3.11.5"
  }
 },
 "nbformat": 4,
 "nbformat_minor": 5
}
